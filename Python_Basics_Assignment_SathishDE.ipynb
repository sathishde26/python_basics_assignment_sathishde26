{
 "cells": [
  {
   "cell_type": "code",
   "execution_count": null,
   "id": "7d7b55bb-a349-42af-9d9e-97e443d2d85b",
   "metadata": {},
   "outputs": [],
   "source": [
    "# Python basics assignment - sathish devarajulu"
   ]
  },
  {
   "cell_type": "code",
   "execution_count": null,
   "id": "dce4be28-0aec-4e95-9113-1142c9f2f5d1",
   "metadata": {},
   "outputs": [],
   "source": [
    "# Q1 : Key features of Python"
   ]
  },
  {
   "cell_type": "code",
   "execution_count": null,
   "id": "4c93d7a4-df66-499b-9ef0-ee55cdf3a6c2",
   "metadata": {},
   "outputs": [],
   "source": [
    "\"\"\"\n",
    "Python is widely used industry programming language in the data science sector\n",
    "Python is used by Fortune 500 companies\n",
    "Python has lot of libraries – around 137000\n",
    "Python contains optimized libraries\n",
    "Python is used for machine learning, data engineering, data science, visualization\n",
    "Python contains multiple frameworks, other merits being ease of learning and versatile\n",
    "Huge active community for Python is anotehr major asset\n",
    "Python also caters to cross connectivity across databases\n",
    "\n",
    "\"\"\""
   ]
  },
  {
   "cell_type": "code",
   "execution_count": 2,
   "id": "c3c28f7f-9dda-470d-9c0d-27684c3c3071",
   "metadata": {},
   "outputs": [
    {
     "name": "stdout",
     "output_type": "stream",
     "text": [
      "Q1 key features of Python answered above\n"
     ]
    }
   ],
   "source": [
    "print (\"Q1 key features of Python answered above\")"
   ]
  },
  {
   "cell_type": "code",
   "execution_count": null,
   "id": "88bbcd8b-488f-48e7-b4a9-16b2c4b6fd49",
   "metadata": {},
   "outputs": [],
   "source": [
    "# Q2 : Predefined keywords with examples"
   ]
  },
  {
   "cell_type": "code",
   "execution_count": null,
   "id": "470adec3-e2ce-45ea-ae0f-2df29c8d6dbf",
   "metadata": {},
   "outputs": [],
   "source": [
    "\"\"\"\n",
    "Predefined keywords are reserved words used in Python that have specific meaning and cannot be used as identifiers\n",
    "They are case sensitive\n",
    "Keywords cannot be overridden within a Python program\n",
    "Examples of keywords in Python:\n",
    "None\n",
    "return\n",
    "while\n",
    "True\n",
    "False\n",
    "class\n",
    "def\n",
    "dep\n",
    "type\n",
    "for\n",
    "if\n",
    "elseif\n",
    "assert\n",
    "break\n",
    "await\n",
    "\n",
    "Below are few illustrations of keywords used in Python\n",
    "\"\"\"\n"
   ]
  },
  {
   "cell_type": "code",
   "execution_count": 4,
   "id": "51c13d96-e1a7-4841-a1d1-f89543a31274",
   "metadata": {},
   "outputs": [
    {
     "data": {
      "text/plain": [
       "str"
      ]
     },
     "execution_count": 4,
     "metadata": {},
     "output_type": "execute_result"
    }
   ],
   "source": [
    "# type keyword\n",
    "s=\"Hi\"\n",
    "type (s)"
   ]
  },
  {
   "cell_type": "code",
   "execution_count": 5,
   "id": "d94299ac-62c2-4a67-a732-c8f580ee5e88",
   "metadata": {},
   "outputs": [
    {
     "name": "stdout",
     "output_type": "stream",
     "text": [
      "Print is a pre defineed keyword\n"
     ]
    }
   ],
   "source": [
    "# print keyword\n",
    "print (\"Print is a pre defineed keyword\")"
   ]
  },
  {
   "cell_type": "code",
   "execution_count": 13,
   "id": "0b4e5135-fa66-4f32-b96c-b5d8257df6a6",
   "metadata": {},
   "outputs": [
    {
     "name": "stdout",
     "output_type": "stream",
     "text": [
      "s is lesser than 1\n"
     ]
    }
   ],
   "source": [
    "# if else keyword\n",
    "s = 2\n",
    "if s > 3:\n",
    "    print (\"s is greater than 1\")\n",
    "else:\n",
    "    print (\"s is lesser than 1\")"
   ]
  },
  {
   "cell_type": "code",
   "execution_count": 10,
   "id": "4512126c-79ca-4e70-bb24-fdc4c66f8503",
   "metadata": {},
   "outputs": [
    {
     "name": "stdout",
     "output_type": "stream",
     "text": [
      "s is greaterr than 1\n"
     ]
    }
   ],
   "source": [
    "# if else keyword\n",
    "s = 4\n",
    "if s > 3:\n",
    "    print (\"s is greater than 1\")\n",
    "else:\n",
    "    print (\"s is lesser than 1\")"
   ]
  },
  {
   "cell_type": "code",
   "execution_count": 14,
   "id": "11a7a5cb-62f6-4e17-a175-b413253e926a",
   "metadata": {},
   "outputs": [
    {
     "name": "stdout",
     "output_type": "stream",
     "text": [
      "Q2 predefined keywords described wwith examples\n"
     ]
    }
   ],
   "source": [
    "print (\"Q2 predefined keywords described wwith examples\")"
   ]
  },
  {
   "cell_type": "code",
   "execution_count": null,
   "id": "fa060953-c4ed-43a0-8ec1-509a361b4bc9",
   "metadata": {},
   "outputs": [],
   "source": [
    "# Q3 : Mutable and immutable objects in Python"
   ]
  },
  {
   "cell_type": "code",
   "execution_count": null,
   "id": "890cbb51-2667-4f11-af32-7f93a4ec3b46",
   "metadata": {},
   "outputs": [],
   "source": [
    "\"\"\"\n",
    "mutable objects:\n",
    "- those objects whose values can be changed after creation is called mutable objects\n",
    "- they support item assignment\n",
    "example - list command\n",
    "basically list is used to store all kinds of data and any number of data\n",
    "any value inside the list elements can be changed\n",
    "below illustration\n",
    "\n",
    "\"\"\""
   ]
  },
  {
   "cell_type": "code",
   "execution_count": 19,
   "id": "7b6ff656-1aee-4aa0-8752-f74dfad7e2cb",
   "metadata": {},
   "outputs": [
    {
     "data": {
      "text/plain": [
       "'Sathish'"
      ]
     },
     "execution_count": 19,
     "metadata": {},
     "output_type": "execute_result"
    }
   ],
   "source": [
    "list_cont = [1,2,\"Sathish\"]\n",
    "list_cont [2]"
   ]
  },
  {
   "cell_type": "code",
   "execution_count": 20,
   "id": "7ac8fc49-5d16-47fd-a58d-9cfd2757f84a",
   "metadata": {},
   "outputs": [
    {
     "data": {
      "text/plain": [
       "'Rupesh'"
      ]
     },
     "execution_count": 20,
     "metadata": {},
     "output_type": "execute_result"
    }
   ],
   "source": [
    "list_cont = [1,2,\"Rupesh\"]\n",
    "list_cont [2]"
   ]
  },
  {
   "cell_type": "code",
   "execution_count": 21,
   "id": "50c70cb1-181c-4214-94f1-c9fb2981c3e4",
   "metadata": {},
   "outputs": [
    {
     "data": {
      "text/plain": [
       "2"
      ]
     },
     "execution_count": 21,
     "metadata": {},
     "output_type": "execute_result"
    }
   ],
   "source": [
    "list_cont = [1,2,\"Rupesh\"]\n",
    "list_cont [1]"
   ]
  },
  {
   "cell_type": "code",
   "execution_count": 22,
   "id": "b4be5592-e04b-483c-a33c-caf1e4382295",
   "metadata": {},
   "outputs": [
    {
     "data": {
      "text/plain": [
       "20"
      ]
     },
     "execution_count": 22,
     "metadata": {},
     "output_type": "execute_result"
    }
   ],
   "source": [
    "list_cont = [1,20,\"Rupesh\"]\n",
    "list_cont [1]"
   ]
  },
  {
   "cell_type": "code",
   "execution_count": 23,
   "id": "c314fdea-d61c-4216-a94d-a82753bd187f",
   "metadata": {},
   "outputs": [
    {
     "data": {
      "text/plain": [
       "list"
      ]
     },
     "execution_count": 23,
     "metadata": {},
     "output_type": "execute_result"
    }
   ],
   "source": [
    "list_cont = [1,2,\"Sathish\"]\n",
    "type (list_cont)"
   ]
  },
  {
   "cell_type": "code",
   "execution_count": null,
   "id": "0df09ee5-a76c-41b2-a4aa-229294b10b50",
   "metadata": {},
   "outputs": [],
   "source": [
    "\"\"\"\n",
    "inmutable objects:\n",
    "- those objects whose values cannot be changed after creation is called mutable objects\n",
    "- they do not support item assignment\n",
    "example - str command\n",
    "below illustration\n",
    "\n",
    "\"\"\""
   ]
  },
  {
   "cell_type": "code",
   "execution_count": 24,
   "id": "fc492061-d539-47ec-b141-0ba14e4fb2ee",
   "metadata": {},
   "outputs": [
    {
     "data": {
      "text/plain": [
       "'i'"
      ]
     },
     "execution_count": 24,
     "metadata": {},
     "output_type": "execute_result"
    }
   ],
   "source": [
    "g = \"Unimaginable\"\n",
    "g [2]"
   ]
  },
  {
   "cell_type": "code",
   "execution_count": 26,
   "id": "a3c30e08-fd83-4432-b422-750d3d4a90cc",
   "metadata": {},
   "outputs": [
    {
     "ename": "TypeError",
     "evalue": "'str' object does not support item assignment",
     "output_type": "error",
     "traceback": [
      "\u001b[0;31m---------------------------------------------------------------------------\u001b[0m",
      "\u001b[0;31mTypeError\u001b[0m                                 Traceback (most recent call last)",
      "Cell \u001b[0;32mIn[26], line 1\u001b[0m\n\u001b[0;32m----> 1\u001b[0m \u001b[43mg\u001b[49m\u001b[43m \u001b[49m\u001b[43m[\u001b[49m\u001b[38;5;241;43m2\u001b[39;49m\u001b[43m]\u001b[49m\u001b[38;5;241m=\u001b[39m\u001b[38;5;124m\"\u001b[39m\u001b[38;5;124mQ\u001b[39m\u001b[38;5;124m\"\u001b[39m\n",
      "\u001b[0;31mTypeError\u001b[0m: 'str' object does not support item assignment"
     ]
    }
   ],
   "source": [
    "g [2]=\"Q\""
   ]
  },
  {
   "cell_type": "code",
   "execution_count": null,
   "id": "bce79daf-8382-4454-a4bf-2c1c3cc4a94d",
   "metadata": {},
   "outputs": [],
   "source": [
    "# the above statment means that the \"i\" stored in 2nd memory blank cannot be replaced with \"Q\""
   ]
  },
  {
   "cell_type": "code",
   "execution_count": 28,
   "id": "67e7313e-8781-45a9-809f-38b41ecb35c3",
   "metadata": {},
   "outputs": [
    {
     "name": "stdout",
     "output_type": "stream",
     "text": [
      "Q3 - mutable and inmutable objects explanation done\n"
     ]
    }
   ],
   "source": [
    "print (\"Q3 - mutable and inmutable objects explanation done\")"
   ]
  },
  {
   "cell_type": "code",
   "execution_count": null,
   "id": "ddc0c3bb-4a95-4e56-9519-74b2d6ae6ce0",
   "metadata": {},
   "outputs": [],
   "source": [
    "# Q5 - typecasting in Python"
   ]
  },
  {
   "cell_type": "code",
   "execution_count": null,
   "id": "7414426d-c8d2-4ef6-a4f7-9896a8291af2",
   "metadata": {},
   "outputs": [],
   "source": [
    "\"\"\"\n",
    "type casting means conversion of one data type to another data type\n",
    "2 types - implicit and explicit\n",
    "implicit typecasting - takes the predefined data type and implies as per Python data types\n",
    "explicit typecasting - specifically define the data type to be convereted\n",
    "\n",
    "below illustration with examples\n",
    "\"\"\""
   ]
  },
  {
   "cell_type": "code",
   "execution_count": 29,
   "id": "59c98327-bf04-4f11-9512-a4f2420d4812",
   "metadata": {},
   "outputs": [
    {
     "data": {
      "text/plain": [
       "int"
      ]
     },
     "execution_count": 29,
     "metadata": {},
     "output_type": "execute_result"
    }
   ],
   "source": [
    "# variable defined as string initially but type converted to int\n",
    "b = \"150\"\n",
    "b = int(b)\n",
    "type (b)"
   ]
  },
  {
   "cell_type": "code",
   "execution_count": 32,
   "id": "7a5b7844-50b4-4ec2-9d74-78632549b64c",
   "metadata": {},
   "outputs": [
    {
     "ename": "TypeError",
     "evalue": "can only concatenate str (not \"int\") to str",
     "output_type": "error",
     "traceback": [
      "\u001b[0;31m---------------------------------------------------------------------------\u001b[0m",
      "\u001b[0;31mTypeError\u001b[0m                                 Traceback (most recent call last)",
      "Cell \u001b[0;32mIn[32], line 1\u001b[0m\n\u001b[0;32m----> 1\u001b[0m \u001b[38;5;124;43m\"\u001b[39;49m\u001b[38;5;124;43m10\u001b[39;49m\u001b[38;5;124;43m\"\u001b[39;49m\u001b[43m \u001b[49m\u001b[38;5;241;43m+\u001b[39;49m\u001b[43m \u001b[49m\u001b[38;5;241;43m8\u001b[39;49m\n",
      "\u001b[0;31mTypeError\u001b[0m: can only concatenate str (not \"int\") to str"
     ]
    }
   ],
   "source": [
    "\"10\" + 8"
   ]
  },
  {
   "cell_type": "code",
   "execution_count": 36,
   "id": "1c3dd7be-d55c-4e4f-9ee7-d7662c78a106",
   "metadata": {},
   "outputs": [
    {
     "data": {
      "text/plain": [
       "18"
      ]
     },
     "execution_count": 36,
     "metadata": {},
     "output_type": "execute_result"
    }
   ],
   "source": [
    "# in above example string concatenation cannot be done with int data type\n",
    "# hence first data type conversion is done and then operation carried out\n",
    "a = \"10\"\n",
    "b =  8\n",
    "a = int(\"10\")\n",
    "a + b"
   ]
  },
  {
   "cell_type": "code",
   "execution_count": null,
   "id": "ffd21827-229e-4559-9c61-b169d21cd3b7",
   "metadata": {},
   "outputs": [],
   "source": [
    "#In special cases for storage values of different data types this type casting is used"
   ]
  },
  {
   "cell_type": "code",
   "execution_count": 37,
   "id": "3e622a62-92d0-4c2d-bbff-6bfc32443a3c",
   "metadata": {},
   "outputs": [
    {
     "name": "stdout",
     "output_type": "stream",
     "text": [
      "Q5 - concept of typecasting is explained\n"
     ]
    }
   ],
   "source": [
    "print (\"Q5 - concept of typecasting is explained\")"
   ]
  },
  {
   "cell_type": "code",
   "execution_count": null,
   "id": "f140d23c-e11c-44e2-a7a9-ba482746d457",
   "metadata": {},
   "outputs": [],
   "source": [
    "#Q7 Loops in Python"
   ]
  },
  {
   "cell_type": "code",
   "execution_count": null,
   "id": "143e3e2a-288c-4975-b18b-ff25744c7419",
   "metadata": {},
   "outputs": [],
   "source": [
    "\"\"\"\n",
    "2 types of loops used in Python\n",
    "for loop\n",
    "while loop\n",
    "for loop used to iterate over sequence of elements (elements can be str or list)\n",
    "while loop used to execute set of statements until specified condition becomes false\n",
    "for and while -> both are predefined keywoprds in Python\n",
    "\n",
    "below illustrations can be seen\n",
    "\"\"\""
   ]
  },
  {
   "cell_type": "code",
   "execution_count": 39,
   "id": "b2cb8228-57f4-4f0c-a2a2-5ecb64aeacb6",
   "metadata": {},
   "outputs": [
    {
     "name": "stdout",
     "output_type": "stream",
     "text": [
      "S\n",
      "a\n",
      "t\n",
      "h\n",
      "i\n",
      "s\n",
      "h\n"
     ]
    }
   ],
   "source": [
    "#for loop example 1\n",
    "#value of i is S in the first time and then a in second time \n",
    "#like that till end of string and terminates at the end\n",
    "for i in (\"Sathish\"):\n",
    "    print (i)"
   ]
  },
  {
   "cell_type": "code",
   "execution_count": 42,
   "id": "e5070ea9-a166-4855-8862-cdbd433a43ba",
   "metadata": {},
   "outputs": [
    {
     "name": "stdout",
     "output_type": "stream",
     "text": [
      "NiceApple\n",
      "NiceMango\n",
      "NicePlums\n"
     ]
    }
   ],
   "source": [
    "#for loop example 2\n",
    "# for each item of the list is assigned to i and printed\n",
    "fruits = [\"Apple\",\"Mango\",\"Plums\"]\n",
    "for i in fruits:\n",
    "    print (\"Nice\" + i)"
   ]
  },
  {
   "cell_type": "code",
   "execution_count": 43,
   "id": "2605ac5b-5d51-4964-8d56-cab8c949e511",
   "metadata": {},
   "outputs": [
    {
     "name": "stdout",
     "output_type": "stream",
     "text": [
      "0\n",
      "1\n",
      "2\n",
      "3\n"
     ]
    }
   ],
   "source": [
    "#for loop example with range statement\n",
    "#range generates sequence of elements, for loop execution from start to end of range values\n",
    "for i in range(0,4):\n",
    "    print (i)"
   ]
  },
  {
   "cell_type": "code",
   "execution_count": 46,
   "id": "5384e4ad-c297-4e3c-9f98-d4b48d3436c6",
   "metadata": {},
   "outputs": [
    {
     "name": "stdout",
     "output_type": "stream",
     "text": [
      "0\n",
      "5\n",
      "10\n",
      "15\n",
      "20\n",
      "25\n",
      "30\n",
      "35\n",
      "40\n",
      "45\n"
     ]
    }
   ],
   "source": [
    "#for loop example 4 using range\n",
    "# range (0,50,5) - start from 0 end at 50 with interval of 5 between list value\n",
    "for i in range(0,50,5):\n",
    "    print (i)"
   ]
  },
  {
   "cell_type": "code",
   "execution_count": null,
   "id": "bfa7b4eb-e55d-47a7-a96e-f65e869625a7",
   "metadata": {},
   "outputs": [],
   "source": [
    "# for loop with continue statment"
   ]
  },
  {
   "cell_type": "code",
   "execution_count": 52,
   "id": "e88cce87-9e9c-46ae-9566-368e204a8c0f",
   "metadata": {},
   "outputs": [
    {
     "name": "stdout",
     "output_type": "stream",
     "text": [
      "1\n",
      "2\n",
      "(4+5j)\n",
      "Bye\n"
     ]
    }
   ],
   "source": [
    "# once the condition mentioned is met for loop element then skip the \n",
    "# condition met element and proceed to next loop element \n",
    "# i takes the value of Hi so skip Hi element and proceed with next loop element\n",
    "l = [1,2,\"Hi\",4+5j,\"Bye\"]\n",
    "for i in l:\n",
    "    if i == \"Hi\":\n",
    "            continue\n",
    "    print (i)\n"
   ]
  },
  {
   "cell_type": "code",
   "execution_count": null,
   "id": "2354da8d-61a1-4cf4-aa5a-e45f56ba7c64",
   "metadata": {},
   "outputs": [],
   "source": [
    "# for loop with break statement"
   ]
  },
  {
   "cell_type": "code",
   "execution_count": 22,
   "id": "6d772505-ec5b-4eca-953f-eb15f66fb580",
   "metadata": {},
   "outputs": [
    {
     "name": "stdout",
     "output_type": "stream",
     "text": [
      "1\n",
      "2\n"
     ]
    }
   ],
   "source": [
    "# once the condition mentioned is met for loop element then break the loop and execution is stopped \n",
    "# i takes value of Hi and then no further exection due to break statement execution\n",
    "l = [1,2,\"Hi\",4+5j,\"Bye\"]\n",
    "for i in l:\n",
    "    if i == \"Hi\":\n",
    "            break\n",
    "    print (i)"
   ]
  },
  {
   "cell_type": "code",
   "execution_count": 54,
   "id": "54d2ecba-42b8-41fb-ad6d-8f9f721469aa",
   "metadata": {},
   "outputs": [
    {
     "name": "stdout",
     "output_type": "stream",
     "text": [
      "1\n",
      "2\n",
      "Hi\n",
      "(4+5j)\n",
      "Bye\n",
      "Condition complete\n"
     ]
    }
   ],
   "source": [
    "# for loop - example with else\n",
    "# execute all the loop elements and then once nothing left execute the else condition\n",
    "l = [1,2,\"Hi\",4+5j,\"Bye\"]\n",
    "for i in l:\n",
    "    print (i)\n",
    "else:\n",
    "    print (\"Condition complete\")"
   ]
  },
  {
   "cell_type": "code",
   "execution_count": 56,
   "id": "62fc7469-ebce-4f43-80c6-c97b82286279",
   "metadata": {},
   "outputs": [
    {
     "name": "stdout",
     "output_type": "stream",
     "text": [
      "2\n",
      "5\n",
      "8\n",
      "11\n",
      "14\n",
      "17\n",
      "20\n",
      "23\n",
      "26\n",
      "29\n",
      "range complete\n"
     ]
    }
   ],
   "source": [
    "# for loop - example with range\n",
    "# loop elements are in the range and iteration will start with between range values\n",
    "l = range (2,30,3)\n",
    "for i in l:\n",
    "    print (i)\n",
    "else:\n",
    "    print (\"range complete\")"
   ]
  },
  {
   "cell_type": "code",
   "execution_count": 58,
   "id": "8cd7c81d-ef7f-4c6e-9958-209ea8a8f03e",
   "metadata": {},
   "outputs": [
    {
     "name": "stdout",
     "output_type": "stream",
     "text": [
      "for loops illustration complete\n"
     ]
    }
   ],
   "source": [
    "print (\"for loops illustration complete\")"
   ]
  },
  {
   "cell_type": "code",
   "execution_count": null,
   "id": "acb235ea-3a13-424a-937b-4cc2735c8712",
   "metadata": {},
   "outputs": [],
   "source": [
    "# while loops - used to repeatedly execute set of statements until specified condition becomes false"
   ]
  },
  {
   "cell_type": "code",
   "execution_count": 79,
   "id": "231ad88f-fad1-451f-9e2b-f8f5caa4348f",
   "metadata": {},
   "outputs": [
    {
     "name": "stdout",
     "output_type": "stream",
     "text": [
      "1\n",
      "2\n",
      "3\n",
      "4\n",
      "5\n"
     ]
    }
   ],
   "source": [
    "# while loop - example 1\n",
    "# first iteration value is 1 while condition ie met so print and then increment i by 1\n",
    "# second iteration value is 2 and proceed till while condition becomes false\n",
    "i = 1\n",
    "while i < 6:\n",
    "        print (i)\n",
    "        i += 1"
   ]
  },
  {
   "cell_type": "code",
   "execution_count": 1,
   "id": "c2a6d141-c525-4907-818d-01399a506663",
   "metadata": {},
   "outputs": [
    {
     "name": "stdout",
     "output_type": "stream",
     "text": [
      "1\n"
     ]
    }
   ],
   "source": [
    "# while loop - example 2 with break\n",
    "# first loop element value is 1 and it is printed followed by break\n",
    "# while loop is broken with no further exection\n",
    "i = 1\n",
    "while i < 6:\n",
    "        print (i)\n",
    "        break\n",
    "        i += 1"
   ]
  },
  {
   "cell_type": "code",
   "execution_count": 2,
   "id": "6100920c-76a7-43d1-9937-ee36f6e0714a",
   "metadata": {},
   "outputs": [
    {
     "name": "stdout",
     "output_type": "stream",
     "text": [
      "2\n",
      "3\n",
      "5\n",
      "6\n",
      "7\n",
      "Printed\n"
     ]
    }
   ],
   "source": [
    "# while loop example with continue keyword\n",
    "# when loop element value is 3 then that itereation is skipped and contnues with rest of loop elements\n",
    "#once while condition is met and becomes false then code outisde else is executed, hence final printed\n",
    "n = 7\n",
    "i = 1\n",
    "while i < n:\n",
    "    i = i+1\n",
    "    if i == 4:\n",
    "            continue\n",
    "    print(i)\n",
    "else:\n",
    "            print(\"Printed\")"
   ]
  },
  {
   "cell_type": "code",
   "execution_count": 23,
   "id": "2a9440c2-cadd-4c42-99c8-afd36a66ce7f",
   "metadata": {},
   "outputs": [
    {
     "name": "stdout",
     "output_type": "stream",
     "text": [
      "Q7 loops done in Python\n"
     ]
    }
   ],
   "source": [
    "print (\"Q7 loops done in Python\")"
   ]
  },
  {
   "cell_type": "code",
   "execution_count": null,
   "id": "cf95a71e-a3e7-43d2-aeb0-5a5faa8884fc",
   "metadata": {},
   "outputs": [],
   "source": [
    "# Q6 conditional statemetns in Python"
   ]
  },
  {
   "cell_type": "code",
   "execution_count": null,
   "id": "9e98f68c-63f0-477f-a475-ee85fb772e35",
   "metadata": {},
   "outputs": [],
   "source": [
    "\"\"\"\n",
    "Types of conditional statemetns used in Python\n",
    "* if\n",
    "* if else\n",
    "* if elif\n",
    "* nested if else\n",
    "\"\"\""
   ]
  },
  {
   "cell_type": "code",
   "execution_count": 6,
   "id": "91c5f9f2-df76-45b9-8967-6e84f945ddcc",
   "metadata": {},
   "outputs": [
    {
     "name": "stdout",
     "output_type": "stream",
     "text": [
      "a and b are equal\n"
     ]
    }
   ],
   "source": [
    "#if condition illustration below\n",
    "# if the mentioned condition is true then next set of code block will be executed\n",
    "a = 33\n",
    "b = 33\n",
    "if b == a:\n",
    "  print(\"a and b are equal\")"
   ]
  },
  {
   "cell_type": "code",
   "execution_count": 4,
   "id": "1e1cfbcd-2f5a-41d7-90e5-6b7064d0cc34",
   "metadata": {},
   "outputs": [
    {
     "name": "stdout",
     "output_type": "stream",
     "text": [
      "a  is greater\n"
     ]
    }
   ],
   "source": [
    "#if condition example 1\n",
    "a = 111\n",
    "b = 33\n",
    "if a > b:\n",
    "  print(\"a  is greater\")"
   ]
  },
  {
   "cell_type": "code",
   "execution_count": 1,
   "id": "a8aa2c39-a896-4c8c-8ef0-aa0fe1284a91",
   "metadata": {},
   "outputs": [],
   "source": [
    "#if condition example 2\n",
    "a = 13\n",
    "b = 33\n",
    "if a > b:\n",
    "  print(\"a  is greater\")"
   ]
  },
  {
   "cell_type": "code",
   "execution_count": null,
   "id": "d101d4aa-dceb-4ed4-a8b8-bb7e697d794d",
   "metadata": {},
   "outputs": [],
   "source": [
    "# no response for above code exedcution since if condition is false"
   ]
  },
  {
   "cell_type": "code",
   "execution_count": 7,
   "id": "bbbf108f-93e0-4d10-8838-775193e8d2c9",
   "metadata": {},
   "outputs": [
    {
     "name": "stdout",
     "output_type": "stream",
     "text": [
      "happy\n"
     ]
    }
   ],
   "source": [
    "#if condition example 3\n",
    "salary = 5001\n",
    "if salary > 5000:\n",
    "    print (\"happy\")"
   ]
  },
  {
   "cell_type": "code",
   "execution_count": null,
   "id": "f15a4892-9cf5-4dac-8343-bfb052a68647",
   "metadata": {},
   "outputs": [],
   "source": [
    "# if else condition\n",
    "# syntax if the condition is true execute code 1 block else execute code 2 block"
   ]
  },
  {
   "cell_type": "code",
   "execution_count": 10,
   "id": "69f24b02-9ca7-457d-97a4-2f1566bbc9ba",
   "metadata": {},
   "outputs": [
    {
     "name": "stdout",
     "output_type": "stream",
     "text": [
      "a is smaller\n"
     ]
    }
   ],
   "source": [
    "#if else example 1\n",
    "a=1200\n",
    "if a > 1500:\n",
    "    print (\"a is greater\")\n",
    "else:\n",
    "    print (\"a is smaller\")"
   ]
  },
  {
   "cell_type": "code",
   "execution_count": 11,
   "id": "5bc8436a-9b57-43fe-b5e8-a491cc25617f",
   "metadata": {},
   "outputs": [
    {
     "name": "stdout",
     "output_type": "stream",
     "text": [
      "a is greater\n"
     ]
    }
   ],
   "source": [
    "#if else example 2\n",
    "a=1600\n",
    "if a > 1500:\n",
    "    print (\"a is greater\")\n",
    "else:\n",
    "    print (\"a is smaller\")"
   ]
  },
  {
   "cell_type": "code",
   "execution_count": 13,
   "id": "cd49b58f-1b74-4eee-87c4-2039856ce399",
   "metadata": {},
   "outputs": [
    {
     "name": "stdout",
     "output_type": "stream",
     "text": [
      "play football\n"
     ]
    }
   ],
   "source": [
    "#if else example 3\n",
    "a = \"Sunny\"\n",
    "if a  == \"Sunny\":\n",
    "    print (\"play football\")\n",
    "else:\n",
    "    print (\"watch TV\")"
   ]
  },
  {
   "cell_type": "code",
   "execution_count": 16,
   "id": "bb2992e0-ee37-4e71-b41e-1c16af5bfba1",
   "metadata": {},
   "outputs": [
    {
     "name": "stdout",
     "output_type": "stream",
     "text": [
      "watch TV\n"
     ]
    }
   ],
   "source": [
    "#if else example 4\n",
    "a = \"Sunny\"\n",
    "if a  != \"Sunny\":\n",
    "    print (\"play football\")\n",
    "else:\n",
    "    print (\"watch TV\")"
   ]
  },
  {
   "cell_type": "code",
   "execution_count": null,
   "id": "8fc88cfe-63d8-4a84-a345-bafe6d1fc8f1",
   "metadata": {},
   "outputs": [],
   "source": [
    "#if elif else condition\n",
    "# can have multiple conditions inside"
   ]
  },
  {
   "cell_type": "code",
   "execution_count": 23,
   "id": "c2cc70d0-e848-4fa7-a0d9-77ea3201075a",
   "metadata": {},
   "outputs": [
    {
     "name": "stdout",
     "output_type": "stream",
     "text": [
      "eligible to vote\n"
     ]
    }
   ],
   "source": [
    "# if elif example\n",
    "age = 24\n",
    "if age >= 21:\n",
    "    print (\"eligible to vote\")\n",
    "elif 25 <= age > 22:\n",
    "        print (\"partial vote\")\n",
    "else:\n",
    "    print (\"cannot vote\")"
   ]
  },
  {
   "cell_type": "code",
   "execution_count": 24,
   "id": "0576a1cd-5f8a-4887-957f-9224f8a6de8b",
   "metadata": {},
   "outputs": [
    {
     "name": "stdout",
     "output_type": "stream",
     "text": [
      "cannot vote\n"
     ]
    }
   ],
   "source": [
    "# if elif example\n",
    "age = 15\n",
    "if age >= 21:\n",
    "    print (\"eligible to vote\")\n",
    "elif 25 <= age > 22:\n",
    "        print (\"partial vote\")\n",
    "else:\n",
    "    print (\"cannot vote\")"
   ]
  },
  {
   "cell_type": "code",
   "execution_count": 30,
   "id": "3ad804e9-a7d8-42a1-a622-3d79cb28f49b",
   "metadata": {},
   "outputs": [
    {
     "name": "stdout",
     "output_type": "stream",
     "text": [
      "partial vote\n"
     ]
    }
   ],
   "source": [
    "# if elif example\n",
    "age = 29\n",
    "if age == 21:\n",
    "    print (\"eligible to vote\")\n",
    "elif 25 < age > 22:\n",
    "    print (\"partial vote\")\n",
    "else:\n",
    "    print (\"cannot vote\")"
   ]
  },
  {
   "cell_type": "code",
   "execution_count": null,
   "id": "ca1bb673-b72b-4e4c-8f29-52265a76047a",
   "metadata": {},
   "outputs": [],
   "source": [
    "#nested if condition - can hold if statement inside anotehr if statement"
   ]
  },
  {
   "cell_type": "code",
   "execution_count": 31,
   "id": "178045ae-3ee9-49e2-b427-e0f88cf9704a",
   "metadata": {},
   "outputs": [
    {
     "name": "stdout",
     "output_type": "stream",
     "text": [
      "Above ten,\n",
      "and also above 20!\n"
     ]
    }
   ],
   "source": [
    "# nested if example 1\n",
    "x = 41\n",
    "\n",
    "if x > 10:\n",
    "  print(\"Above ten,\")\n",
    "  if x > 20:\n",
    "    print(\"and also above 20!\")\n",
    "  else:\n",
    "    print(\"but not above 20.\")"
   ]
  },
  {
   "cell_type": "code",
   "execution_count": 32,
   "id": "c95f156b-4ef9-4593-8aec-7bd659d19e96",
   "metadata": {},
   "outputs": [
    {
     "name": "stdout",
     "output_type": "stream",
     "text": [
      "Above ten,\n",
      "but not above 20.\n"
     ]
    }
   ],
   "source": [
    "# nested if example 2\n",
    "x = 11\n",
    "\n",
    "if x > 10:\n",
    "  print(\"Above ten,\")\n",
    "  if x > 20:\n",
    "    print(\"and also above 20!\")\n",
    "  else:\n",
    "    print(\"but not above 20.\")"
   ]
  },
  {
   "cell_type": "code",
   "execution_count": 33,
   "id": "83761b9c-898a-47b6-8362-604802fd6d85",
   "metadata": {},
   "outputs": [
    {
     "name": "stdout",
     "output_type": "stream",
     "text": [
      "num =  8\n",
      "divisible by 2 not divisible by 3\n"
     ]
    }
   ],
   "source": [
    "# nested if example 3\n",
    "num=8\n",
    "print (\"num = \",num)\n",
    "if num%2==0:\n",
    "   if num%3==0:\n",
    "      print (\"Divisible by 3 and 2\")\n",
    "   else:\n",
    "      print (\"divisible by 2 not divisible by 3\")\n",
    "else:\n",
    "   if num%3==0:\n",
    "      print (\"divisible by 3 not divisible by 2\")\n",
    "   else:\n",
    "      print (\"not Divisible by 2 not divisible by 3\")"
   ]
  },
  {
   "cell_type": "code",
   "execution_count": 35,
   "id": "20b69243-4729-44dc-99bd-08494b117648",
   "metadata": {},
   "outputs": [
    {
     "name": "stdout",
     "output_type": "stream",
     "text": [
      "Q6 completed conditional statemetns in Python\n"
     ]
    }
   ],
   "source": [
    "print (\"Q6 completed conditional statemetns in Python\")"
   ]
  },
  {
   "cell_type": "code",
   "execution_count": null,
   "id": "3f288f40-f0ac-4aef-ac9d-ead0da79a3db",
   "metadata": {},
   "outputs": [],
   "source": [
    "# Q4 : Types of operators in Python"
   ]
  },
  {
   "cell_type": "code",
   "execution_count": null,
   "id": "9900a7a3-3d75-46c7-a153-dc626cae90d6",
   "metadata": {},
   "outputs": [],
   "source": [
    "\"\"\"\n",
    "\n",
    "Operators are used to perform some operations and manipulate data\n",
    "\n",
    "Python divides the operators in the following groups:\n",
    "\n",
    "Arithmetic operators\n",
    "Assignment operators\n",
    "Comparison operators\n",
    "Logical operators\n",
    "Identity operators\n",
    "Membership operators\n",
    "Bitwise operators\n",
    "\n",
    "Below explained with illustrations for each operator type\n",
    "\n",
    "\"\"\""
   ]
  },
  {
   "cell_type": "code",
   "execution_count": 36,
   "id": "0c71b17b-7e95-45de-914e-97dc7f9ca66c",
   "metadata": {},
   "outputs": [],
   "source": [
    "#Arithmetic operators\n",
    "\"\"\"\n",
    "+\tAddition\tx + y\t\n",
    "-\tSubtraction\tx - y\t\n",
    "*\tMultiplication\tx * y\t\n",
    "/\tDivision\tx / y\t\n",
    "%\tModulus\tx % y\t\n",
    "**\tExponentiation\tx ** y\t\n",
    "//  Floor division x // y\n",
    "\n",
    "\"\"\""
   ]
  },
  {
   "cell_type": "code",
   "execution_count": 37,
   "id": "6bd68f90-9015-4573-bd74-eb14b7e7e67a",
   "metadata": {},
   "outputs": [
    {
     "data": {
      "text/plain": [
       "5"
      ]
     },
     "execution_count": 37,
     "metadata": {},
     "output_type": "execute_result"
    }
   ],
   "source": [
    "2+3"
   ]
  },
  {
   "cell_type": "code",
   "execution_count": 38,
   "id": "860e9ffa-2767-4bf7-9a07-7759032f0c4b",
   "metadata": {},
   "outputs": [
    {
     "data": {
      "text/plain": [
       "2"
      ]
     },
     "execution_count": 38,
     "metadata": {},
     "output_type": "execute_result"
    }
   ],
   "source": [
    "4-2"
   ]
  },
  {
   "cell_type": "code",
   "execution_count": 39,
   "id": "8728681e-6627-46e0-b885-0d6582b25768",
   "metadata": {},
   "outputs": [
    {
     "data": {
      "text/plain": [
       "24"
      ]
     },
     "execution_count": 39,
     "metadata": {},
     "output_type": "execute_result"
    }
   ],
   "source": [
    "4*6"
   ]
  },
  {
   "cell_type": "code",
   "execution_count": 40,
   "id": "9201f9bf-f048-4095-bb9d-54c59fc58cbb",
   "metadata": {},
   "outputs": [
    {
     "data": {
      "text/plain": [
       "1.2857142857142858"
      ]
     },
     "execution_count": 40,
     "metadata": {},
     "output_type": "execute_result"
    }
   ],
   "source": [
    "9/7"
   ]
  },
  {
   "cell_type": "code",
   "execution_count": 41,
   "id": "566af484-c92f-49ca-b670-857b95637fc7",
   "metadata": {},
   "outputs": [
    {
     "data": {
      "text/plain": [
       "1"
      ]
     },
     "execution_count": 41,
     "metadata": {},
     "output_type": "execute_result"
    }
   ],
   "source": [
    "4 // 3"
   ]
  },
  {
   "cell_type": "code",
   "execution_count": 42,
   "id": "10e4017d-6f6b-4c58-89da-5d2314a343f8",
   "metadata": {},
   "outputs": [
    {
     "data": {
      "text/plain": [
       "16"
      ]
     },
     "execution_count": 42,
     "metadata": {},
     "output_type": "execute_result"
    }
   ],
   "source": [
    "2 ** 4"
   ]
  },
  {
   "cell_type": "code",
   "execution_count": 43,
   "id": "13c43569-f7f2-4bce-adf4-e65ac2fc54bb",
   "metadata": {},
   "outputs": [
    {
     "data": {
      "text/plain": [
       "2"
      ]
     },
     "execution_count": 43,
     "metadata": {},
     "output_type": "execute_result"
    }
   ],
   "source": [
    "6 % 4"
   ]
  },
  {
   "cell_type": "code",
   "execution_count": null,
   "id": "a4b07f2f-79e2-4be4-b6bd-ae2708a4ace2",
   "metadata": {},
   "outputs": [],
   "source": [
    "#Assignment operators\n",
    "\"\"\"\n",
    "=\t\n",
    "+=\t\t\n",
    "-=\t\n",
    "*=\t\n",
    "/=\t\n",
    "%=\t\n",
    "//=\t\n",
    "**=\t\n",
    "&=\t\n",
    "|=\t\t\n",
    "^=\t\t\n",
    ">>=\t\n",
    "<<=\t\n",
    ":=\t\n",
    "\n",
    "\"\"\""
   ]
  },
  {
   "cell_type": "code",
   "execution_count": 45,
   "id": "9222b226-4ede-4758-88d6-2cf1f81a8788",
   "metadata": {},
   "outputs": [
    {
     "name": "stdout",
     "output_type": "stream",
     "text": [
      "3\n"
     ]
    }
   ],
   "source": [
    "a=3\n",
    "print (a)"
   ]
  },
  {
   "cell_type": "code",
   "execution_count": 49,
   "id": "520dc3de-57a7-4f6f-b621-fe574173f240",
   "metadata": {},
   "outputs": [
    {
     "data": {
      "text/plain": [
       "10"
      ]
     },
     "execution_count": 49,
     "metadata": {},
     "output_type": "execute_result"
    }
   ],
   "source": [
    "a=5\n",
    "a += 5\n",
    "a"
   ]
  },
  {
   "cell_type": "code",
   "execution_count": 50,
   "id": "a26ed966-f65c-4bfd-a45f-ee6d1e35d835",
   "metadata": {},
   "outputs": [
    {
     "data": {
      "text/plain": [
       "3"
      ]
     },
     "execution_count": 50,
     "metadata": {},
     "output_type": "execute_result"
    }
   ],
   "source": [
    "e=7\n",
    "e -= 4\n",
    "e"
   ]
  },
  {
   "cell_type": "code",
   "execution_count": null,
   "id": "4378f491-0c36-4384-ad17-63dd0f571ca3",
   "metadata": {},
   "outputs": [],
   "source": [
    "#Comparison operators\n",
    "\"\"\"\n",
    "==\tEqual\tx == y\t\n",
    "!=\tNot equal\tx != y\t\n",
    ">\tGreater than\tx > y\t\n",
    "<\tLess than\tx < y\t\n",
    ">=\tGreater than or equal to\tx >= y\t\n",
    "<=\tLess than or equal to\tx <= y\n",
    "\n",
    "\n",
    "\"\"\""
   ]
  },
  {
   "cell_type": "code",
   "execution_count": 52,
   "id": "b45850bb-52ee-4ec1-bad0-6bbc13419c2e",
   "metadata": {},
   "outputs": [
    {
     "data": {
      "text/plain": [
       "True"
      ]
     },
     "execution_count": 52,
     "metadata": {},
     "output_type": "execute_result"
    }
   ],
   "source": [
    "5==5\n"
   ]
  },
  {
   "cell_type": "code",
   "execution_count": 53,
   "id": "92714a7b-b244-485b-be03-f2a81bc2bdf8",
   "metadata": {},
   "outputs": [
    {
     "data": {
      "text/plain": [
       "True"
      ]
     },
     "execution_count": 53,
     "metadata": {},
     "output_type": "execute_result"
    }
   ],
   "source": [
    "4 != 6"
   ]
  },
  {
   "cell_type": "code",
   "execution_count": 54,
   "id": "96122080-98bc-4ffd-a6ea-d7e84dfc9e81",
   "metadata": {},
   "outputs": [
    {
     "data": {
      "text/plain": [
       "False"
      ]
     },
     "execution_count": 54,
     "metadata": {},
     "output_type": "execute_result"
    }
   ],
   "source": [
    "4 == 6"
   ]
  },
  {
   "cell_type": "code",
   "execution_count": 55,
   "id": "31ebdbd4-b353-4ce1-a9ad-d6a2ea2d6400",
   "metadata": {},
   "outputs": [
    {
     "data": {
      "text/plain": [
       "False"
      ]
     },
     "execution_count": 55,
     "metadata": {},
     "output_type": "execute_result"
    }
   ],
   "source": [
    "4 > 6"
   ]
  },
  {
   "cell_type": "code",
   "execution_count": 56,
   "id": "a6155258-786d-451b-a565-99df491f8f5e",
   "metadata": {},
   "outputs": [
    {
     "data": {
      "text/plain": [
       "True"
      ]
     },
     "execution_count": 56,
     "metadata": {},
     "output_type": "execute_result"
    }
   ],
   "source": [
    "6 < 9"
   ]
  },
  {
   "cell_type": "code",
   "execution_count": 57,
   "id": "0d6386c1-39fb-4a64-8f1c-c4d10ee3d32d",
   "metadata": {},
   "outputs": [
    {
     "data": {
      "text/plain": [
       "False"
      ]
     },
     "execution_count": 57,
     "metadata": {},
     "output_type": "execute_result"
    }
   ],
   "source": [
    "3 >= 6"
   ]
  },
  {
   "cell_type": "code",
   "execution_count": 58,
   "id": "b18e4a51-0830-426b-bb29-aa06b02f3b51",
   "metadata": {},
   "outputs": [
    {
     "data": {
      "text/plain": [
       "True"
      ]
     },
     "execution_count": 58,
     "metadata": {},
     "output_type": "execute_result"
    }
   ],
   "source": [
    "2 >=2"
   ]
  },
  {
   "cell_type": "code",
   "execution_count": 59,
   "id": "5e9bc68c-5f6d-42de-9ca6-414fa588ea3d",
   "metadata": {},
   "outputs": [
    {
     "data": {
      "text/plain": [
       "False"
      ]
     },
     "execution_count": 59,
     "metadata": {},
     "output_type": "execute_result"
    }
   ],
   "source": [
    "6 <= 4"
   ]
  },
  {
   "cell_type": "code",
   "execution_count": null,
   "id": "224871ae-9700-4ffe-88c2-fd4a7acbdbc0",
   "metadata": {},
   "outputs": [],
   "source": [
    "#Logical operators\n",
    "\"\"\"\n",
    "and\n",
    "or\n",
    "not\n",
    "\n",
    "\"\"\""
   ]
  },
  {
   "cell_type": "code",
   "execution_count": 60,
   "id": "085aeb31-9a38-4728-9d9f-459844cb54aa",
   "metadata": {},
   "outputs": [
    {
     "data": {
      "text/plain": [
       "True"
      ]
     },
     "execution_count": 60,
     "metadata": {},
     "output_type": "execute_result"
    }
   ],
   "source": [
    "True and True"
   ]
  },
  {
   "cell_type": "code",
   "execution_count": 61,
   "id": "1ea98163-080f-4cd9-b45a-f5e0ce0e3c93",
   "metadata": {},
   "outputs": [
    {
     "data": {
      "text/plain": [
       "False"
      ]
     },
     "execution_count": 61,
     "metadata": {},
     "output_type": "execute_result"
    }
   ],
   "source": [
    "True and False"
   ]
  },
  {
   "cell_type": "code",
   "execution_count": 62,
   "id": "71500d5e-06f6-4a82-a1d6-40f2a0d0c2b2",
   "metadata": {},
   "outputs": [
    {
     "data": {
      "text/plain": [
       "False"
      ]
     },
     "execution_count": 62,
     "metadata": {},
     "output_type": "execute_result"
    }
   ],
   "source": [
    "False and False"
   ]
  },
  {
   "cell_type": "code",
   "execution_count": 63,
   "id": "94d7c3b6-d116-4408-abc1-b771c3e285ee",
   "metadata": {},
   "outputs": [
    {
     "data": {
      "text/plain": [
       "True"
      ]
     },
     "execution_count": 63,
     "metadata": {},
     "output_type": "execute_result"
    }
   ],
   "source": [
    "True or False"
   ]
  },
  {
   "cell_type": "code",
   "execution_count": 64,
   "id": "861d5f5c-1b4c-4252-aac0-53effd2fe849",
   "metadata": {},
   "outputs": [
    {
     "data": {
      "text/plain": [
       "True"
      ]
     },
     "execution_count": 64,
     "metadata": {},
     "output_type": "execute_result"
    }
   ],
   "source": [
    "True or True"
   ]
  },
  {
   "cell_type": "code",
   "execution_count": 65,
   "id": "ef9f3a64-c65c-4ed7-a355-0392d7ad3766",
   "metadata": {},
   "outputs": [
    {
     "data": {
      "text/plain": [
       "False"
      ]
     },
     "execution_count": 65,
     "metadata": {},
     "output_type": "execute_result"
    }
   ],
   "source": [
    "False or False"
   ]
  },
  {
   "cell_type": "code",
   "execution_count": 66,
   "id": "aeaeb8c4-d181-48e8-81e5-a2c74feee3be",
   "metadata": {},
   "outputs": [
    {
     "data": {
      "text/plain": [
       "False"
      ]
     },
     "execution_count": 66,
     "metadata": {},
     "output_type": "execute_result"
    }
   ],
   "source": [
    "not True"
   ]
  },
  {
   "cell_type": "code",
   "execution_count": 67,
   "id": "a7b9ec7c-f95a-48f7-a6f5-4ed6f5169cb9",
   "metadata": {},
   "outputs": [
    {
     "data": {
      "text/plain": [
       "True"
      ]
     },
     "execution_count": 67,
     "metadata": {},
     "output_type": "execute_result"
    }
   ],
   "source": [
    "not False"
   ]
  },
  {
   "cell_type": "code",
   "execution_count": null,
   "id": "846205b0-5969-4e4b-b49c-89f81114db13",
   "metadata": {},
   "outputs": [],
   "source": [
    "# Identity operators"
   ]
  },
  {
   "cell_type": "code",
   "execution_count": null,
   "id": "55a2a7eb-7fa2-4bd7-bc06-884f93ab5aa7",
   "metadata": {},
   "outputs": [],
   "source": [
    "\"\"\"\n",
    "is\n",
    "is not\n",
    "\n",
    "\"\"\""
   ]
  },
  {
   "cell_type": "code",
   "execution_count": 68,
   "id": "9bbe7a5c-81de-411d-86e0-ca5209d6ac55",
   "metadata": {},
   "outputs": [
    {
     "data": {
      "text/plain": [
       "False"
      ]
     },
     "execution_count": 68,
     "metadata": {},
     "output_type": "execute_result"
    }
   ],
   "source": [
    "# different value stored in each memory location so when is oeprator is used returns false\n",
    "a=3\n",
    "b=5\n",
    "a is b"
   ]
  },
  {
   "cell_type": "code",
   "execution_count": 70,
   "id": "aacc33e3-13cc-4a2b-b1a8-d033b2848710",
   "metadata": {},
   "outputs": [
    {
     "data": {
      "text/plain": [
       "True"
      ]
     },
     "execution_count": 70,
     "metadata": {},
     "output_type": "execute_result"
    }
   ],
   "source": [
    "# same value stored in each memory location so when is oeprator is used returns true\n",
    "_r=4\n",
    "_t=4\n",
    "_r is _t"
   ]
  },
  {
   "cell_type": "code",
   "execution_count": 71,
   "id": "58fe7ef6-93b2-42ef-a4b1-d58dc2daff2d",
   "metadata": {},
   "outputs": [
    {
     "data": {
      "text/plain": [
       "True"
      ]
     },
     "execution_count": 71,
     "metadata": {},
     "output_type": "execute_result"
    }
   ],
   "source": [
    "# different value stored in each memory location so when is not oeprator is used returns true\n",
    "a=3\n",
    "b=5\n",
    "a is not b"
   ]
  },
  {
   "cell_type": "code",
   "execution_count": 72,
   "id": "e292cf6a-5313-42fc-afd8-d31ba56a69d3",
   "metadata": {},
   "outputs": [
    {
     "data": {
      "text/plain": [
       "False"
      ]
     },
     "execution_count": 72,
     "metadata": {},
     "output_type": "execute_result"
    }
   ],
   "source": [
    "# same value stored in each memory location so when is not oeprator is used returns false\n",
    "_r=4\n",
    "_t=4\n",
    "_r is not _t"
   ]
  },
  {
   "cell_type": "code",
   "execution_count": null,
   "id": "14e7f466-c9d1-4bf2-95f8-b9e0343ace6a",
   "metadata": {},
   "outputs": [],
   "source": [
    "#Membership operators\n",
    "# in, not in"
   ]
  },
  {
   "cell_type": "code",
   "execution_count": 73,
   "id": "544e1109-29e6-4c70-8297-2bede1d4282a",
   "metadata": {},
   "outputs": [
    {
     "data": {
      "text/plain": [
       "True"
      ]
     },
     "execution_count": 73,
     "metadata": {},
     "output_type": "execute_result"
    }
   ],
   "source": [
    "5 in [2,3,4,5]"
   ]
  },
  {
   "cell_type": "code",
   "execution_count": 74,
   "id": "e8864cc4-1ef1-4008-9ce8-ffd2969c0f6c",
   "metadata": {},
   "outputs": [
    {
     "data": {
      "text/plain": [
       "True"
      ]
     },
     "execution_count": 74,
     "metadata": {},
     "output_type": "execute_result"
    }
   ],
   "source": [
    "\"hi\" not in [\"bye\",\"sorry\",\"morning\"]"
   ]
  },
  {
   "cell_type": "code",
   "execution_count": 76,
   "id": "543079b4-c095-460f-86cf-088397fdaba7",
   "metadata": {},
   "outputs": [
    {
     "data": {
      "text/plain": [
       "True"
      ]
     },
     "execution_count": 76,
     "metadata": {},
     "output_type": "execute_result"
    }
   ],
   "source": [
    "\"hi\" in [\"bye\",\"sorry\",\"morning\",\"hi\"]"
   ]
  },
  {
   "cell_type": "code",
   "execution_count": null,
   "id": "df2a4090-45e6-45f1-927e-66c645418245",
   "metadata": {},
   "outputs": [],
   "source": [
    "# Bitwise operators - used for operations done at bit level"
   ]
  },
  {
   "cell_type": "code",
   "execution_count": 77,
   "id": "d612b4da-b365-4016-ac17-76971c6005ca",
   "metadata": {},
   "outputs": [
    {
     "data": {
      "text/plain": [
       "'0b1010'"
      ]
     },
     "execution_count": 77,
     "metadata": {},
     "output_type": "execute_result"
    }
   ],
   "source": [
    "bin(10)"
   ]
  },
  {
   "cell_type": "code",
   "execution_count": 78,
   "id": "b245c6ca-1696-4da8-817b-96218b2995dd",
   "metadata": {},
   "outputs": [
    {
     "data": {
      "text/plain": [
       "2"
      ]
     },
     "execution_count": 78,
     "metadata": {},
     "output_type": "execute_result"
    }
   ],
   "source": [
    "18 & 3"
   ]
  },
  {
   "cell_type": "code",
   "execution_count": 79,
   "id": "4bd55aa4-d931-4d48-939f-f1e8c2ba71da",
   "metadata": {},
   "outputs": [
    {
     "data": {
      "text/plain": [
       "'0b10'"
      ]
     },
     "execution_count": 79,
     "metadata": {},
     "output_type": "execute_result"
    }
   ],
   "source": [
    "bin(2)"
   ]
  },
  {
   "cell_type": "code",
   "execution_count": 86,
   "id": "bfe66df9-a3db-481a-b5d4-d4500addc246",
   "metadata": {},
   "outputs": [
    {
     "data": {
      "text/plain": [
       "5"
      ]
     },
     "execution_count": 86,
     "metadata": {},
     "output_type": "execute_result"
    }
   ],
   "source": [
    "4 | 5"
   ]
  },
  {
   "cell_type": "code",
   "execution_count": 87,
   "id": "0671b75e-ef80-482b-9fc4-c044586fe0ea",
   "metadata": {},
   "outputs": [
    {
     "data": {
      "text/plain": [
       "'0b101'"
      ]
     },
     "execution_count": 87,
     "metadata": {},
     "output_type": "execute_result"
    }
   ],
   "source": [
    "bin(5)"
   ]
  },
  {
   "cell_type": "code",
   "execution_count": 88,
   "id": "9c902ea1-e07e-455e-9f90-612f40b4c62f",
   "metadata": {},
   "outputs": [
    {
     "data": {
      "text/plain": [
       "-7"
      ]
     },
     "execution_count": 88,
     "metadata": {},
     "output_type": "execute_result"
    }
   ],
   "source": [
    "#negation ~\n",
    "# gives closest highest negative value\n",
    "~6"
   ]
  },
  {
   "cell_type": "code",
   "execution_count": 83,
   "id": "bfb2eba1-06a3-4056-b2e7-05b2929fbc54",
   "metadata": {},
   "outputs": [
    {
     "data": {
      "text/plain": [
       "6"
      ]
     },
     "execution_count": 83,
     "metadata": {},
     "output_type": "execute_result"
    }
   ],
   "source": [
    "#XOR operator ^\n",
    "# return 1 when exactly one operand is 1\n",
    "5 ^ 3"
   ]
  },
  {
   "cell_type": "code",
   "execution_count": 84,
   "id": "d6a0cd95-d79a-4d18-9c59-8bfd092e08c1",
   "metadata": {},
   "outputs": [
    {
     "data": {
      "text/plain": [
       "35"
      ]
     },
     "execution_count": 84,
     "metadata": {},
     "output_type": "execute_result"
    }
   ],
   "source": [
    "# >> right shift operator\n",
    "280 >> 3"
   ]
  },
  {
   "cell_type": "code",
   "execution_count": 85,
   "id": "0d5ec103-f489-4b5e-82e8-14045f93fe50",
   "metadata": {},
   "outputs": [
    {
     "data": {
      "text/plain": [
       "10"
      ]
     },
     "execution_count": 85,
     "metadata": {},
     "output_type": "execute_result"
    }
   ],
   "source": [
    "# << left shift operator\n",
    "5 << 1"
   ]
  },
  {
   "cell_type": "code",
   "execution_count": 89,
   "id": "7992fbf8-d303-458b-accc-3248bed95060",
   "metadata": {},
   "outputs": [
    {
     "name": "stdout",
     "output_type": "stream",
     "text": [
      " Q4 oeprators completed in Python\n"
     ]
    }
   ],
   "source": [
    "print (\" Q4 oeprators completed in Python\")"
   ]
  },
  {
   "cell_type": "code",
   "execution_count": 90,
   "id": "6e41dbfe-0436-46c1-a670-ffdfee158081",
   "metadata": {},
   "outputs": [
    {
     "name": "stdout",
     "output_type": "stream",
     "text": [
      "Python basics assignment completed for all 7 questions\n"
     ]
    }
   ],
   "source": [
    "print (\"Python basics assignment completed for all 7 questions\")"
   ]
  },
  {
   "cell_type": "code",
   "execution_count": null,
   "id": "1464c455-7ab1-463c-9e2f-0cea924d0dad",
   "metadata": {},
   "outputs": [],
   "source": []
  }
 ],
 "metadata": {
  "kernelspec": {
   "display_name": "Python 3 (ipykernel)",
   "language": "python",
   "name": "python3"
  },
  "language_info": {
   "codemirror_mode": {
    "name": "ipython",
    "version": 3
   },
   "file_extension": ".py",
   "mimetype": "text/x-python",
   "name": "python",
   "nbconvert_exporter": "python",
   "pygments_lexer": "ipython3",
   "version": "3.10.8"
  }
 },
 "nbformat": 4,
 "nbformat_minor": 5
}
